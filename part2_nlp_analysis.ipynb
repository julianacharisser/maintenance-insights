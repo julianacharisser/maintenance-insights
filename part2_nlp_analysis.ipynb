{
 "cells": [
  {
   "cell_type": "markdown",
   "id": "e4de3570",
   "metadata": {},
   "source": [
    "## Using Natural Language Processing Techniques to better understand the dataset"
   ]
  },
  {
   "cell_type": "code",
   "execution_count": 2,
   "id": "aa7071a7",
   "metadata": {},
   "outputs": [],
   "source": [
    "import pandas as pd"
   ]
  },
  {
   "cell_type": "code",
   "execution_count": null,
   "id": "4f109577",
   "metadata": {},
   "outputs": [
    {
     "data": {
      "text/plain": [
       "Index(['Abnormality_ID', 'Date_Created', 'DateClosed',\n",
       "       'MaintenanceProblemCode', 'Problem Description', 'Employee_Name',\n",
       "       'SafetyIssue', 'MachineDownNew', 'Action Owner', 'MachineHoursLost',\n",
       "       'TotalHoursToClose', 'Maint Tech Notes/Abnormality Action Item Notes'],\n",
       "      dtype='object')"
      ]
     },
     "execution_count": 11,
     "metadata": {},
     "output_type": "execute_result"
    }
   ],
   "source": [
    "df = pd.read_csv('cleaned_abnormality_report.csv')\n",
    "df"
   ]
  },
  {
   "cell_type": "code",
   "execution_count": 4,
   "id": "1c87d62a",
   "metadata": {},
   "outputs": [
    {
     "data": {
      "text/plain": [
       "Index(['AbnormalityID', 'DateCreated', 'DateClosed', 'MaintenanceProblemCode',\n",
       "       'ProblemDescription', 'EmployeeName', 'IsSafetyIssue',\n",
       "       'IsMachineDownNew', 'ActionOwner', 'MachineHoursLost',\n",
       "       'TotalHoursToClose', 'MaintenanceNotes'],\n",
       "      dtype='object')"
      ]
     },
     "execution_count": 4,
     "metadata": {},
     "output_type": "execute_result"
    }
   ],
   "source": [
    "df.rename(columns={\n",
    "    'Date_Created': 'DateCreated',\n",
    "    'Resolution_Time': 'ResolutionTime',\n",
    "    'Employee_Name': 'EmployeeName',\n",
    "    'Abnormality_ID': 'AbnormalityID',\n",
    "    'Problem Description': 'ProblemDescription',\n",
    "    'SafetyIssue': 'IsSafetyIssue',\n",
    "    'MachineDownNew': 'IsMachineDownNew',  \n",
    "    'Action Owner': 'ActionOwner',\n",
    "    'Maint Tech Notes/Abnormality Action Item Notes': 'MaintenanceNotes'\n",
    "}, inplace=True)\n",
    "df.columns"
   ]
  },
  {
   "cell_type": "markdown",
   "id": "a3150a5c",
   "metadata": {},
   "source": [
    "### Overview\n",
    "* Columns that are related to diagnosing the problem: 'MaintenanceProblemCode', 'ProblemDescription', 'IsSafetyIssue', 'IsMachineDownNew'\n",
    "* Column related to the Maintenance: 'MaintenanceNotes'\n",
    "\n",
    "\n",
    "Columns that need to do REGEX/NLP Analysis on:\n",
    "1. 'ProblemDescription'\n",
    "   * Has a number eg. 354, 291, 1. Not sure what these stand for\n",
    "\n",
    "2. 'MaintenanceNotes'\n",
    "   * Date: Same as the 'DateClosed'\n",
    "   * Problem: Same as 'ProblemDescription'\n",
    "   * Multiple ticket\n",
    "   * Cause\n",
    "   * Replaced \n",
    "   * Previous ticket \n",
    "   * Alarm"
   ]
  },
  {
   "cell_type": "code",
   "execution_count": 8,
   "id": "ac5e8541",
   "metadata": {},
   "outputs": [
    {
     "data": {
      "application/vnd.microsoft.datawrangler.viewer.v0+json": {
       "columns": [
        {
         "name": "index",
         "rawType": "int64",
         "type": "integer"
        },
        {
         "name": "AbnormalityID",
         "rawType": "int64",
         "type": "integer"
        },
        {
         "name": "MaintenanceProblemCode",
         "rawType": "object",
         "type": "string"
        },
        {
         "name": "ProblemDescription",
         "rawType": "object",
         "type": "string"
        },
        {
         "name": "MaintenanceNotes",
         "rawType": "object",
         "type": "unknown"
        }
       ],
       "conversionMethod": "pd.DataFrame",
       "ref": "941f6bfc-4510-42db-84d7-eac44b52d58e",
       "rows": [
        [
         "0",
         "45557",
         "Alarm Machine Down",
         "Telescopic cover opened",
         "done"
        ],
        [
         "1",
         "46292",
         "Door Issue",
         "Door interlock key broken.",
         "S no 237566\nE500\nfound the door interlock key is bend replaced \nnew key ok\nH/O"
        ],
        [
         "2",
         "46986",
         "Alarms Machine not Down",
         "Tool change at the time ATC ALARAM,(292 No Tool Unload tool in magazine)",
         "found the tool detect sensor dirty sensor cleaned and tested found okey machine handed over to production (monitoring)"
        ],
        [
         "3",
         "47229",
         "Alarm Machine Down",
         "Appeared 209 Slidway lube malfunction alarm, need to open the machine cover for refill the grease",
         "Grease top up and reset.\n\n!2:15-12:45P.M"
        ],
        [
         "4",
         "47914",
         "Door Issue",
         "Machine Door interlock Key locking & unlocking not functioning\n\nRequested by \nPrasanna",
         "0Interlock key and head replaced and checked O.k.\n\nWorked with Aibin"
        ],
        [
         "5",
         "48690",
         "Coolant issues",
         "COOLANT COME OUT FROM HIGH PRESSURE COOLANT TANK, NEED TO CHECK AND CHANGE.",
         "suck cramoil then top up water test ok, then handover to production."
        ],
        [
         "6",
         "48878",
         "Door Issue",
         "MAIN DOOR INTER LOCK NOT WORKING .",
         "duplicate ticket closed by sampath kumar"
        ],
        [
         "7",
         "48879",
         "Door Issue",
         "D",
         "Door inter lock switch key broken key replaced with new one tested okey machine handed over to production\ndoor inter lock switch part no; R49ZZ000430   (1 no)"
        ],
        [
         "8",
         "48916",
         "Machine leaks",
         "When machine running time air hose bust inside the Monitor pannel board, caused appeared Air pressure down alarm and machine stopped suddenly.\n",
         "FOUND AIR HOSE FITTING TEAR THEN TEST OK HANDOVER TO PRODUCTION."
        ],
        [
         "9",
         "51924",
         "Coolant issues",
         "COOLANT LEAK  FOUND AT  COOLANT TANK SIDE.",
         "found leak from below tailstock, due  to many chips block the coolant  below the telescopic cover clear the chip test \nno leak \nH/O \n"
        ],
        [
         "10",
         "55181",
         "Coolant issues",
         "FLOOT COOLANT NOSIEL MISSING,NEED TO REPLACE.\nNAME-C.KALIYAMOORTHY\nMACHINE-GC035300",
         "Replaced the Fllod coolant nozzle test ok \nH/O\ndone by \nJaya/Liang"
        ],
        [
         "11",
         "56892",
         "Door Issue",
         "DOOR INTERLOCK SAFETY KEY ISSUE.  WETHER TOTAL ASSEMBLY COME OUT OR BROKEN.\n",
         "inter lock key holder plate broken\nplate replaced with new one and tested okey machine handed over to production\nattended by sampath kumar"
        ],
        [
         "12",
         "58221",
         "Alarm Machine Down",
         "In running job when recall the sequnce appeared below alarm, its may be due to Virus or other issue dont know, please come and check.\n\"M740 EIA PRO MFC........has stopped working\" In between have some other language words.",
         "Reset the alarm OFF and ON  main power ok. Monitoring\nH/O"
        ],
        [
         "13",
         "58222",
         "Problem Not Listed",
         "program page empty on disply screen",
         "repeted ticket closed by sampath kumar\nrefer previous ticket no 58221"
        ],
        [
         "14",
         "58675",
         "Door Issue",
         "GC035300-1   E-500-01 \nDOOR INTERLOCK KEY PROBLEM ....",
         "Left side door interlock pin and connector damaged so replaced new set then monitoring ok,H/O production BY V.Ravi"
        ],
        [
         "15",
         "59189",
         "Steady rest issues",
         "steady rest cable  cover (box) open",
         "Replaced the new work rest cable bearer replaced with new one tested okey machine handed over to production\nattended by sampath /parthiban/hai liang"
        ],
        [
         "16",
         "59449",
         "Tool changer issues",
         "tool change 291 no tool unload mah",
         "magazine alarm reset tested okey machine handed over to production\nattended by sampath/kotian"
        ],
        [
         "17",
         "59911",
         "Door Issue",
         "Panel board can't move heavy tight already two three time repair ready again panel board heavy tight.so need repair permantly..",
         "contorl pannel linier bearing guide ways alaigenment work carried out tested okey machine handed over to production \nattended by sampath /kotian\nFound normal closed on 27102017"
        ],
        [
         "18",
         "60023",
         "Digital Readout Problem",
         "Feed rate does not seem in rapid mode.",
         "program issue done by PTL."
        ],
        [
         "19",
         "60504",
         "Alarms Machine not Down",
         "Alarm : 291 no tool unload ( tool in magazine).",
         "Machine in busy \nunder monitoring.\nNeed shedule for fix the issue.\nAttended By\nParthiban/Ai BIn\n"
        ],
        [
         "20",
         "60584",
         "Alarm Machine Down",
         "RUNNING TIME  \"M740 EIA PRO MFC HAS STOPPED WORKING\" ALM APPEAR.",
         "Switch off M/c then reset alarm clear  m/c  h/o  production but Under monitoring \n\n now no issue so close ticket by Ravi"
        ],
        [
         "21",
         "60741",
         "Alarm Machine Down",
         "1)291 NO TOOL UNLOAD(TOOL IN  MAG.).",
         "magazine side tool detect sensor dirty sensor cleaned and tested okey machine handed over to production\nmachine under monitoring\nNo issues closed on 12/12/2017\nattended by sampath"
        ],
        [
         "22",
         "60901",
         "Door Issue",
         "operator- pravinkumar\nmachine- GC 035300-1\n\nDOOR INTERLOCK CAN'T WORK.",
         "Replaced damaged left side interlock key, do check ok. HOP.\n\nDone by Sampath / Kotian."
        ],
        [
         "23",
         "61173",
         "Spindle issue",
         "mill spindle load is too high ( above 150%) while running Twin boring bar & KSEM drill.",
         "found that coolant enter because of dented cover.cleaned and cjheckef motor winding found normal. H/O and moniotred 2 days. o.k\n\nKotan/Aibin/Jaya"
        ],
        [
         "24",
         "61238",
         "Axis is Noisy",
         "While moving the Z axis the telescopic cover is too noisy.",
         "Z axis having noisy, Z axis bearin replaced still problem. Replaced Zaxis ball screw and alligned tset cut done and checked o.k.\n\nSampath/Kotian/Aibin/P.M team /Mazak."
        ],
        [
         "25",
         "61309",
         "Alarm Machine Down",
         "chiller unit malfunction alarm",
         "Compressor faulty. Waiting for replace and service.Serviced by Soon teck on 25/1/18. Fixed and checked O.k. H/O.\n\nKotian/Sampath/aiibin"
        ],
        [
         "26",
         "61433",
         "Axis is Noisy",
         "Z AXIS teliscopies heavy noisy",
         "WO 61238 This is a multi wo. Bearing ordered . Waiting for spare"
        ],
        [
         "27",
         "61515",
         "Problem Not Listed",
         "Mist collector is not working",
         "waiting for drum filter.Replaced drrum filter on 28/2/18 by Aibin."
        ],
        [
         "28",
         "61594",
         "Problem Not Listed",
         "chiller unit malfuntion",
         "Found temp goes below 10 degrees cause freeze and water leak. Since it was recently serviced by Soon tech called them to check.\nOn 7/2/18,they came here and checked found normal. No abnormal found. H/o annd informed to monitor. \nNow m/c is running normal."
        ],
        [
         "29",
         "63258",
         "Problem Not Listed",
         "Mill spindle is getting over load while doing twin bore operation,load goes upto 110 to 120 which is consider as a abnormal load.",
         "Problem rectified by mazak/mitsubshi\nattended by aibin"
        ],
        [
         "30",
         "63556",
         "Steady rest issues",
         "steady rest cover damaged need to change.",
         "Steady rest cover provided."
        ],
        [
         "31",
         "65754",
         "Tool changer issues",
         "291 NO TOOL UNLOAD  ALARM .....",
         "Cleaned the sensor."
        ],
        [
         "32",
         "67457",
         "DNC Problem",
         "M740 EIA PRO MFC ........... HAS STOPPED  WORKING",
         "alarm massage cleared and handed over to production\nattended by hai liang / sampath"
        ],
        [
         "33",
         "68272",
         "Door Issue",
         "MACHINE SAFETY DOOR GLASS CRACKED",
         "safety door replaced with new one tested and handed over to production\nattended by aibin/jaya/kotian"
        ],
        [
         "34",
         "69466",
         "Conveyor Problem",
         "thermal trip alrm",
         "Checked and found chips jammed inside conveyor. Cleared the chips and rest . H/o.\n\nJaya/parhiban"
        ],
        [
         "35",
         "70294",
         "Machine Crash",
         "need to check the alignment of the turret.",
         "duplicate ticket refer ticket no;70300"
        ],
        [
         "36",
         "70300",
         "Axis Is not align",
         "axis alignment out. need to check all axis. pls help.",
         "Testcut and alignment done.\nAfter alignment\nOD +0.0005\"\nID 0.0005\"\nLegth -.0006\"\nTailstock Taper with in 0.0003\"\nTailstock to Steady Rest 0.0002\"\nHandover top production\nDone By\nParthiban/Jaya\n26/03/2019"
        ],
        [
         "37",
         "71153",
         "Steady rest issues",
         "Steady rest cover miss",
         "Operator  bearing bottom rectangle plate missing. so i fixed new plate with screw tested with operaot okso H/O m/c By V.RAVI"
        ],
        [
         "38",
         "72009",
         "Coolant issues",
         "LBB bar coolant leaking issue",
         "Replaced hose and LBB alignment done.\nTesting ok and handed over to production.\n\nAttended By\nSampath/Parthiban"
        ],
        [
         "39",
         "72292",
         "Problem Not Listed",
         "Steady rest alignement adjustable bolt bend , need to replace new bolt. front side",
         "Replaced with new bolt.\n\nAttend by Sampath/Kumar."
        ],
        [
         "40",
         "72714",
         "Steady rest issues",
         "steady rest cover is not fuction properly",
         "Steady rest cover spring and screw replaced.\nworking normal"
        ],
        [
         "41",
         "72860",
         "Problem Not Listed",
         "while machine running time machine automatically  get emergency alarm.",
         "RESET AND H/O. MONITORED O.K. H/O"
        ],
        [
         "42",
         "74337",
         "Steady rest issues",
         "need to change steady rest cover it makes line mark at OD in the piece",
         "Replaced screw,spring and blade"
        ],
        [
         "43",
         "74450",
         "Coolant issues",
         "coolant canot coming.",
         "found coolant line block clean the hose test ok\nH/O\nby\njayaprakasam"
        ],
        [
         "44",
         "74608",
         "Axis is Noisy",
         "machine change bearing roller",
         "CHANGED NEW 3 BEARING .ALREADY ,HIAILIANG AND SAMPATH."
        ],
        [
         "45",
         "75662",
         "Machine Incident",
         "machine crash, overload alram",
         "we found Runout 40 micron , B0 side X +80 micron parallelism out and b90 side Z-80 micron out and B axis home position out 0.0132\"\n\nWe starts the alighnment Y axis box take out ...\n\n>> Physical alignment done  XZ at B0 and B90 with in 4micron..\nTestcut Started\nAttended by\nJaya/Parthiban/Hailiang\n\n22-02-2020 \n\nM16,M5,BA61, BA62.THEN TOOL EYE , TESTCUT DONE. \nPending  only Steady Rest and Tailstock alignhment \nRavi/Sampath\n\n>> Tailstock and Steadyrest alignment done,With in 0.001\"\n\nMachine hand over to production \n\nAttended by\nParthiban/Hailiang\n"
        ],
        [
         "46",
         "76081",
         "Steady rest issues",
         "NEED CHANGE STEADY REST COVER",
         "NEW COVER REPLACED OK\nBY\nJAYA"
        ],
        [
         "47",
         "76213",
         "Chiller Unit Malfunction",
         "301-chiller unit malfunction.",
         "Checked chiller unit E6 alarm occured.\nReplaced another spare chiller unit from maintenance.\nDetails of Chiller unit:\n1210-Z2457-H64\nModel # KMV-150-M37-001\nAl Hydraulic fittings and connections replaced and leaks checked.\nFuntion test verified.\nMachine handed over to production.\n\nAttend By Sampath/Ravi/Kumar/Liang.\n"
        ],
        [
         "48",
         "76672",
         "Steady rest issues",
         "STEADY REST CABLE BARRER BOLCK BROKEN",
         null
        ],
        [
         "49",
         "76887",
         "Door Issue",
         "CAN NOT CLOSE",
         "changed new key ok ,aibin and jaya."
        ]
       ],
       "shape": {
        "columns": 4,
        "rows": 246
       }
      },
      "text/html": [
       "<div>\n",
       "<style scoped>\n",
       "    .dataframe tbody tr th:only-of-type {\n",
       "        vertical-align: middle;\n",
       "    }\n",
       "\n",
       "    .dataframe tbody tr th {\n",
       "        vertical-align: top;\n",
       "    }\n",
       "\n",
       "    .dataframe thead th {\n",
       "        text-align: right;\n",
       "    }\n",
       "</style>\n",
       "<table border=\"1\" class=\"dataframe\">\n",
       "  <thead>\n",
       "    <tr style=\"text-align: right;\">\n",
       "      <th></th>\n",
       "      <th>AbnormalityID</th>\n",
       "      <th>MaintenanceProblemCode</th>\n",
       "      <th>ProblemDescription</th>\n",
       "      <th>MaintenanceNotes</th>\n",
       "    </tr>\n",
       "  </thead>\n",
       "  <tbody>\n",
       "    <tr>\n",
       "      <th>0</th>\n",
       "      <td>45557</td>\n",
       "      <td>Alarm Machine Down</td>\n",
       "      <td>Telescopic cover opened</td>\n",
       "      <td>done</td>\n",
       "    </tr>\n",
       "    <tr>\n",
       "      <th>1</th>\n",
       "      <td>46292</td>\n",
       "      <td>Door Issue</td>\n",
       "      <td>Door interlock key broken.</td>\n",
       "      <td>S no 237566\\nE500\\nfound the door interlock ke...</td>\n",
       "    </tr>\n",
       "    <tr>\n",
       "      <th>2</th>\n",
       "      <td>46986</td>\n",
       "      <td>Alarms Machine not Down</td>\n",
       "      <td>Tool change at the time ATC ALARAM,(292 No Too...</td>\n",
       "      <td>found the tool detect sensor dirty sensor clea...</td>\n",
       "    </tr>\n",
       "    <tr>\n",
       "      <th>3</th>\n",
       "      <td>47229</td>\n",
       "      <td>Alarm Machine Down</td>\n",
       "      <td>Appeared 209 Slidway lube malfunction alarm, n...</td>\n",
       "      <td>Grease top up and reset.\\n\\n!2:15-12:45P.M</td>\n",
       "    </tr>\n",
       "    <tr>\n",
       "      <th>4</th>\n",
       "      <td>47914</td>\n",
       "      <td>Door Issue</td>\n",
       "      <td>Machine Door interlock Key locking &amp; unlocking...</td>\n",
       "      <td>0Interlock key and head replaced and checked O...</td>\n",
       "    </tr>\n",
       "    <tr>\n",
       "      <th>...</th>\n",
       "      <td>...</td>\n",
       "      <td>...</td>\n",
       "      <td>...</td>\n",
       "      <td>...</td>\n",
       "    </tr>\n",
       "    <tr>\n",
       "      <th>241</th>\n",
       "      <td>109565</td>\n",
       "      <td>Chiller Unit Malfunction</td>\n",
       "      <td>chiller unit malfunction alarm came( while do ...</td>\n",
       "      <td>Date : 6/2/2025\\nProblem:chiller unit malfunct...</td>\n",
       "    </tr>\n",
       "    <tr>\n",
       "      <th>242</th>\n",
       "      <td>109790</td>\n",
       "      <td>Alarm Machine Down</td>\n",
       "      <td>209 SLIDEWAY OIL MALFUNCTION</td>\n",
       "      <td>Date: 24/2/2025 8:31 am\\nProblem: 209 SLIDEWAY...</td>\n",
       "    </tr>\n",
       "    <tr>\n",
       "      <th>243</th>\n",
       "      <td>109794</td>\n",
       "      <td>Tool changer issues</td>\n",
       "      <td>Machine can not change Tools</td>\n",
       "      <td>Date:  24/2/2025 1:25 pm\\nProblem:Machine can ...</td>\n",
       "    </tr>\n",
       "    <tr>\n",
       "      <th>244</th>\n",
       "      <td>109929</td>\n",
       "      <td>Alarms Machine not Down</td>\n",
       "      <td>LINE FILTER MALFUNCTION</td>\n",
       "      <td>Date: 06/03/2025\\nProblem: LINE FILTER MALFUNC...</td>\n",
       "    </tr>\n",
       "    <tr>\n",
       "      <th>245</th>\n",
       "      <td>109942</td>\n",
       "      <td>Problem Not Listed</td>\n",
       "      <td>SLIDEWAY OIL MALFUNCTION</td>\n",
       "      <td>Date: 2025/3/7 7:56\\nProblem:SLIDEWAY OIL MALF...</td>\n",
       "    </tr>\n",
       "  </tbody>\n",
       "</table>\n",
       "<p>246 rows × 4 columns</p>\n",
       "</div>"
      ],
      "text/plain": [
       "     AbnormalityID    MaintenanceProblemCode  \\\n",
       "0            45557        Alarm Machine Down   \n",
       "1            46292                Door Issue   \n",
       "2            46986   Alarms Machine not Down   \n",
       "3            47229        Alarm Machine Down   \n",
       "4            47914                Door Issue   \n",
       "..             ...                       ...   \n",
       "241         109565  Chiller Unit Malfunction   \n",
       "242         109790        Alarm Machine Down   \n",
       "243         109794       Tool changer issues   \n",
       "244         109929   Alarms Machine not Down   \n",
       "245         109942        Problem Not Listed   \n",
       "\n",
       "                                    ProblemDescription  \\\n",
       "0                              Telescopic cover opened   \n",
       "1                           Door interlock key broken.   \n",
       "2    Tool change at the time ATC ALARAM,(292 No Too...   \n",
       "3    Appeared 209 Slidway lube malfunction alarm, n...   \n",
       "4    Machine Door interlock Key locking & unlocking...   \n",
       "..                                                 ...   \n",
       "241  chiller unit malfunction alarm came( while do ...   \n",
       "242                       209 SLIDEWAY OIL MALFUNCTION   \n",
       "243                       Machine can not change Tools   \n",
       "244                            LINE FILTER MALFUNCTION   \n",
       "245                           SLIDEWAY OIL MALFUNCTION   \n",
       "\n",
       "                                      MaintenanceNotes  \n",
       "0                                                 done  \n",
       "1    S no 237566\\nE500\\nfound the door interlock ke...  \n",
       "2    found the tool detect sensor dirty sensor clea...  \n",
       "3           Grease top up and reset.\\n\\n!2:15-12:45P.M  \n",
       "4    0Interlock key and head replaced and checked O...  \n",
       "..                                                 ...  \n",
       "241  Date : 6/2/2025\\nProblem:chiller unit malfunct...  \n",
       "242  Date: 24/2/2025 8:31 am\\nProblem: 209 SLIDEWAY...  \n",
       "243  Date:  24/2/2025 1:25 pm\\nProblem:Machine can ...  \n",
       "244  Date: 06/03/2025\\nProblem: LINE FILTER MALFUNC...  \n",
       "245  Date: 2025/3/7 7:56\\nProblem:SLIDEWAY OIL MALF...  \n",
       "\n",
       "[246 rows x 4 columns]"
      ]
     },
     "execution_count": 8,
     "metadata": {},
     "output_type": "execute_result"
    }
   ],
   "source": [
    "df_problem_notes = df[['AbnormalityID', 'MaintenanceProblemCode', 'ProblemDescription','MaintenanceNotes']]\n",
    "df_problem_notes"
   ]
  },
  {
   "cell_type": "code",
   "execution_count": 12,
   "id": "7a158eb4",
   "metadata": {},
   "outputs": [],
   "source": [
    "df_maint_notes = df['MaintenanceNotes']\n",
    "df_maint_notes.to_csv('maintenance_notes.csv')"
   ]
  },
  {
   "cell_type": "markdown",
   "id": "458b08db",
   "metadata": {},
   "source": [
    "#### 1. 'MaintenanceNotes' Column"
   ]
  },
  {
   "cell_type": "code",
   "execution_count": null,
   "id": "eb2fafac",
   "metadata": {},
   "outputs": [],
   "source": []
  },
  {
   "cell_type": "code",
   "execution_count": null,
   "id": "16e418b1",
   "metadata": {},
   "outputs": [],
   "source": []
  },
  {
   "cell_type": "code",
   "execution_count": null,
   "id": "125931a8",
   "metadata": {},
   "outputs": [],
   "source": []
  },
  {
   "cell_type": "code",
   "execution_count": null,
   "id": "17d46af4",
   "metadata": {},
   "outputs": [],
   "source": []
  }
 ],
 "metadata": {
  "kernelspec": {
   "display_name": "Python 3",
   "language": "python",
   "name": "python3"
  },
  "language_info": {
   "codemirror_mode": {
    "name": "ipython",
    "version": 3
   },
   "file_extension": ".py",
   "mimetype": "text/x-python",
   "name": "python",
   "nbconvert_exporter": "python",
   "pygments_lexer": "ipython3",
   "version": "3.10.7"
  }
 },
 "nbformat": 4,
 "nbformat_minor": 5
}
