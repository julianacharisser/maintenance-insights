{
 "cells": [
  {
   "cell_type": "markdown",
   "metadata": {},
   "source": [
    "##  Predictive Maintenance and Productivity Loss Analysis for Industrial Machinery"
   ]
  },
  {
   "cell_type": "code",
   "execution_count": 2,
   "metadata": {},
   "outputs": [],
   "source": [
    "import pandas as pd"
   ]
  },
  {
   "cell_type": "code",
   "execution_count": null,
   "metadata": {},
   "outputs": [],
   "source": [
    "df = pd.read_csv('cleaned_abnormality_report.csv')"
   ]
  },
  {
   "cell_type": "code",
   "execution_count": 34,
   "metadata": {},
   "outputs": [
    {
     "data": {
      "application/vnd.microsoft.datawrangler.viewer.v0+json": {
       "columns": [
        {
         "name": "index",
         "rawType": "int64",
         "type": "integer"
        },
        {
         "name": "AbnormalityID",
         "rawType": "int64",
         "type": "integer"
        },
        {
         "name": "DateCreated",
         "rawType": "datetime64[ns]",
         "type": "datetime"
        },
        {
         "name": "DateClosed",
         "rawType": "datetime64[ns]",
         "type": "datetime"
        },
        {
         "name": "MaintenanceProblemCode",
         "rawType": "object",
         "type": "string"
        },
        {
         "name": "ProblemDescription",
         "rawType": "object",
         "type": "string"
        },
        {
         "name": "EmployeeName",
         "rawType": "object",
         "type": "string"
        },
        {
         "name": "IsSafetyIssue",
         "rawType": "object",
         "type": "string"
        },
        {
         "name": "IsMachineDownNew",
         "rawType": "object",
         "type": "string"
        },
        {
         "name": "ActionOwner",
         "rawType": "object",
         "type": "string"
        },
        {
         "name": "MachineHoursLost",
         "rawType": "float64",
         "type": "float"
        },
        {
         "name": "TotalHoursToClose",
         "rawType": "float64",
         "type": "float"
        },
        {
         "name": "MaintenanceNotes",
         "rawType": "object",
         "type": "string"
        },
        {
         "name": "ResolutionTime",
         "rawType": "float64",
         "type": "float"
        }
       ],
       "conversionMethod": "pd.DataFrame",
       "ref": "63af781b-a2e4-4611-8caf-2c6483539eec",
       "rows": [
        [
         "0",
         "45557",
         "2016-03-04 09:08:15.223000",
         "2016-03-04 10:20:40.607000",
         "Alarm Machine Down",
         "Telescopic cover opened",
         "64db4c8a67",
         "No",
         "No",
         "cba0ba69c9",
         "0.0",
         "1.2",
         "done",
         "1.207051111111111"
        ],
        [
         "1",
         "46292",
         "2016-05-04 22:55:02.693000",
         "2016-05-13 23:26:54.410000",
         "Door Issue",
         "Door interlock key broken.",
         "f5eec0c0aa",
         "Yes",
         "Yes",
         "49b43321e6",
         "140.1",
         "216.5",
         "S no 237566\nE500\nfound the door interlock key is bend replaced \nnew key ok\nH/O",
         "216.53103249999998"
        ],
        [
         "2",
         "46986",
         "2016-06-13 12:26:37.447000",
         "2016-06-13 14:29:30.550000",
         "Alarms Machine not Down",
         "Tool change at the time ATC ALARAM,(292 No Tool Unload tool in magazine)",
         "2f42bc8acf",
         "No",
         "No",
         "3de2e22f41",
         "0.0",
         "2.1",
         "found the tool detect sensor dirty sensor cleaned and tested found okey machine handed over to production (monitoring)",
         "2.0480841666666665"
        ],
        [
         "3",
         "47229",
         "2016-06-24 10:38:29.283000",
         "2016-06-24 12:58:14.663000",
         "Alarm Machine Down",
         "Appeared 209 Slidway lube malfunction alarm, need to open the machine cover for refill the grease",
         "200c10adb1",
         "No",
         "Yes",
         "967727c350",
         "2.3",
         "2.3",
         "Grease top up and reset.\n\n!2:15-12:45P.M",
         "2.329272222222222"
        ],
        [
         "4",
         "47914",
         "2016-08-01 09:03:51.143000",
         "2016-08-03 12:05:41.767000",
         "Door Issue",
         "Machine Door interlock Key locking & unlocking not functioning\n\nRequested by \nPrasanna",
         "3ece55ca19",
         "Yes",
         "No",
         "967727c350",
         "0.0",
         "51.0",
         "0Interlock key and head replaced and checked O.k.\n\nWorked with Aibin",
         "51.030728888888895"
        ]
       ],
       "shape": {
        "columns": 13,
        "rows": 5
       }
      },
      "text/html": [
       "<div>\n",
       "<style scoped>\n",
       "    .dataframe tbody tr th:only-of-type {\n",
       "        vertical-align: middle;\n",
       "    }\n",
       "\n",
       "    .dataframe tbody tr th {\n",
       "        vertical-align: top;\n",
       "    }\n",
       "\n",
       "    .dataframe thead th {\n",
       "        text-align: right;\n",
       "    }\n",
       "</style>\n",
       "<table border=\"1\" class=\"dataframe\">\n",
       "  <thead>\n",
       "    <tr style=\"text-align: right;\">\n",
       "      <th></th>\n",
       "      <th>AbnormalityID</th>\n",
       "      <th>DateCreated</th>\n",
       "      <th>DateClosed</th>\n",
       "      <th>MaintenanceProblemCode</th>\n",
       "      <th>ProblemDescription</th>\n",
       "      <th>EmployeeName</th>\n",
       "      <th>IsSafetyIssue</th>\n",
       "      <th>IsMachineDownNew</th>\n",
       "      <th>ActionOwner</th>\n",
       "      <th>MachineHoursLost</th>\n",
       "      <th>TotalHoursToClose</th>\n",
       "      <th>MaintenanceNotes</th>\n",
       "      <th>ResolutionTime</th>\n",
       "    </tr>\n",
       "  </thead>\n",
       "  <tbody>\n",
       "    <tr>\n",
       "      <th>0</th>\n",
       "      <td>45557</td>\n",
       "      <td>2016-03-04 09:08:15.223</td>\n",
       "      <td>2016-03-04 10:20:40.607</td>\n",
       "      <td>Alarm Machine Down</td>\n",
       "      <td>Telescopic cover opened</td>\n",
       "      <td>64db4c8a67</td>\n",
       "      <td>No</td>\n",
       "      <td>No</td>\n",
       "      <td>cba0ba69c9</td>\n",
       "      <td>0.0</td>\n",
       "      <td>1.2</td>\n",
       "      <td>done</td>\n",
       "      <td>1.207051</td>\n",
       "    </tr>\n",
       "    <tr>\n",
       "      <th>1</th>\n",
       "      <td>46292</td>\n",
       "      <td>2016-05-04 22:55:02.693</td>\n",
       "      <td>2016-05-13 23:26:54.410</td>\n",
       "      <td>Door Issue</td>\n",
       "      <td>Door interlock key broken.</td>\n",
       "      <td>f5eec0c0aa</td>\n",
       "      <td>Yes</td>\n",
       "      <td>Yes</td>\n",
       "      <td>49b43321e6</td>\n",
       "      <td>140.1</td>\n",
       "      <td>216.5</td>\n",
       "      <td>S no 237566\\nE500\\nfound the door interlock ke...</td>\n",
       "      <td>216.531032</td>\n",
       "    </tr>\n",
       "    <tr>\n",
       "      <th>2</th>\n",
       "      <td>46986</td>\n",
       "      <td>2016-06-13 12:26:37.447</td>\n",
       "      <td>2016-06-13 14:29:30.550</td>\n",
       "      <td>Alarms Machine not Down</td>\n",
       "      <td>Tool change at the time ATC ALARAM,(292 No Too...</td>\n",
       "      <td>2f42bc8acf</td>\n",
       "      <td>No</td>\n",
       "      <td>No</td>\n",
       "      <td>3de2e22f41</td>\n",
       "      <td>0.0</td>\n",
       "      <td>2.1</td>\n",
       "      <td>found the tool detect sensor dirty sensor clea...</td>\n",
       "      <td>2.048084</td>\n",
       "    </tr>\n",
       "    <tr>\n",
       "      <th>3</th>\n",
       "      <td>47229</td>\n",
       "      <td>2016-06-24 10:38:29.283</td>\n",
       "      <td>2016-06-24 12:58:14.663</td>\n",
       "      <td>Alarm Machine Down</td>\n",
       "      <td>Appeared 209 Slidway lube malfunction alarm, n...</td>\n",
       "      <td>200c10adb1</td>\n",
       "      <td>No</td>\n",
       "      <td>Yes</td>\n",
       "      <td>967727c350</td>\n",
       "      <td>2.3</td>\n",
       "      <td>2.3</td>\n",
       "      <td>Grease top up and reset.\\n\\n!2:15-12:45P.M</td>\n",
       "      <td>2.329272</td>\n",
       "    </tr>\n",
       "    <tr>\n",
       "      <th>4</th>\n",
       "      <td>47914</td>\n",
       "      <td>2016-08-01 09:03:51.143</td>\n",
       "      <td>2016-08-03 12:05:41.767</td>\n",
       "      <td>Door Issue</td>\n",
       "      <td>Machine Door interlock Key locking &amp; unlocking...</td>\n",
       "      <td>3ece55ca19</td>\n",
       "      <td>Yes</td>\n",
       "      <td>No</td>\n",
       "      <td>967727c350</td>\n",
       "      <td>0.0</td>\n",
       "      <td>51.0</td>\n",
       "      <td>0Interlock key and head replaced and checked O...</td>\n",
       "      <td>51.030729</td>\n",
       "    </tr>\n",
       "  </tbody>\n",
       "</table>\n",
       "</div>"
      ],
      "text/plain": [
       "   AbnormalityID             DateCreated              DateClosed  \\\n",
       "0          45557 2016-03-04 09:08:15.223 2016-03-04 10:20:40.607   \n",
       "1          46292 2016-05-04 22:55:02.693 2016-05-13 23:26:54.410   \n",
       "2          46986 2016-06-13 12:26:37.447 2016-06-13 14:29:30.550   \n",
       "3          47229 2016-06-24 10:38:29.283 2016-06-24 12:58:14.663   \n",
       "4          47914 2016-08-01 09:03:51.143 2016-08-03 12:05:41.767   \n",
       "\n",
       "    MaintenanceProblemCode                                 ProblemDescription  \\\n",
       "0       Alarm Machine Down                            Telescopic cover opened   \n",
       "1               Door Issue                         Door interlock key broken.   \n",
       "2  Alarms Machine not Down  Tool change at the time ATC ALARAM,(292 No Too...   \n",
       "3       Alarm Machine Down  Appeared 209 Slidway lube malfunction alarm, n...   \n",
       "4               Door Issue  Machine Door interlock Key locking & unlocking...   \n",
       "\n",
       "  EmployeeName IsSafetyIssue IsMachineDownNew ActionOwner  MachineHoursLost  \\\n",
       "0   64db4c8a67            No               No  cba0ba69c9               0.0   \n",
       "1   f5eec0c0aa           Yes              Yes  49b43321e6             140.1   \n",
       "2   2f42bc8acf            No               No  3de2e22f41               0.0   \n",
       "3   200c10adb1            No              Yes  967727c350               2.3   \n",
       "4   3ece55ca19           Yes               No  967727c350               0.0   \n",
       "\n",
       "   TotalHoursToClose                                   MaintenanceNotes  \\\n",
       "0                1.2                                               done   \n",
       "1              216.5  S no 237566\\nE500\\nfound the door interlock ke...   \n",
       "2                2.1  found the tool detect sensor dirty sensor clea...   \n",
       "3                2.3         Grease top up and reset.\\n\\n!2:15-12:45P.M   \n",
       "4               51.0  0Interlock key and head replaced and checked O...   \n",
       "\n",
       "   ResolutionTime  \n",
       "0        1.207051  \n",
       "1      216.531032  \n",
       "2        2.048084  \n",
       "3        2.329272  \n",
       "4       51.030729  "
      ]
     },
     "execution_count": 34,
     "metadata": {},
     "output_type": "execute_result"
    }
   ],
   "source": [
    "df.head()"
   ]
  },
  {
   "cell_type": "code",
   "execution_count": 10,
   "metadata": {},
   "outputs": [
    {
     "data": {
      "application/vnd.microsoft.datawrangler.viewer.v0+json": {
       "columns": [
        {
         "name": "index",
         "rawType": "object",
         "type": "string"
        },
        {
         "name": "Abnormality_ID",
         "rawType": "float64",
         "type": "float"
        },
        {
         "name": "Date_Created",
         "rawType": "object",
         "type": "unknown"
        },
        {
         "name": "DateClosed",
         "rawType": "object",
         "type": "unknown"
        },
        {
         "name": "MachineHoursLost",
         "rawType": "float64",
         "type": "float"
        },
        {
         "name": "TotalHoursToClose",
         "rawType": "float64",
         "type": "float"
        },
        {
         "name": "Resolution_Time",
         "rawType": "float64",
         "type": "float"
        }
       ],
       "conversionMethod": "pd.DataFrame",
       "ref": "f221c40d-0df7-4a77-ad3e-8bdb7dc4da98",
       "rows": [
        [
         "count",
         "246.0",
         "246",
         "246",
         "246.0",
         "246.0",
         "246.0"
        ],
        [
         "mean",
         "86161.081300813",
         "2021-11-26 18:20:42.406292480",
         "2021-11-28 06:49:06.931841280",
         "18.744308943089433",
         "36.48170731707317",
         "36.47347931910569"
        ],
        [
         "min",
         "45557.0",
         "2016-03-04 09:08:15.223000",
         "2016-03-04 10:20:40.607000",
         "0.0",
         "0.1",
         "0.05191944444444444"
        ],
        [
         "25%",
         "78531.75",
         "2020-08-11 22:23:43.130749952",
         "2020-08-21 14:00:38.785250048",
         "0.8250000000000001",
         "1.6",
         "1.5530277083333335"
        ],
        [
         "50%",
         "87809.0",
         "2022-04-05 21:38:34.580000",
         "2022-04-06 02:59:05.034999808",
         "2.8",
         "4.0",
         "3.995717638888889"
        ],
        [
         "75%",
         "98806.0",
         "2023-10-21 09:52:06.352000",
         "2023-10-21 18:10:53.420250112",
         "7.475",
         "9.9",
         "9.913193194444442"
        ],
        [
         "max",
         "109942.0",
         "2025-03-07 07:56:02.833000",
         "2025-03-07 09:08:39.367000",
         "1465.7",
         "2337.0",
         "2336.945237222222"
        ],
        [
         "std",
         "15498.279248312352",
         null,
         null,
         "100.40378493216362",
         "177.59979324867228",
         "177.59631753941179"
        ]
       ],
       "shape": {
        "columns": 6,
        "rows": 8
       }
      },
      "text/html": [
       "<div>\n",
       "<style scoped>\n",
       "    .dataframe tbody tr th:only-of-type {\n",
       "        vertical-align: middle;\n",
       "    }\n",
       "\n",
       "    .dataframe tbody tr th {\n",
       "        vertical-align: top;\n",
       "    }\n",
       "\n",
       "    .dataframe thead th {\n",
       "        text-align: right;\n",
       "    }\n",
       "</style>\n",
       "<table border=\"1\" class=\"dataframe\">\n",
       "  <thead>\n",
       "    <tr style=\"text-align: right;\">\n",
       "      <th></th>\n",
       "      <th>Abnormality_ID</th>\n",
       "      <th>Date_Created</th>\n",
       "      <th>DateClosed</th>\n",
       "      <th>MachineHoursLost</th>\n",
       "      <th>TotalHoursToClose</th>\n",
       "      <th>Resolution_Time</th>\n",
       "    </tr>\n",
       "  </thead>\n",
       "  <tbody>\n",
       "    <tr>\n",
       "      <th>count</th>\n",
       "      <td>246.000000</td>\n",
       "      <td>246</td>\n",
       "      <td>246</td>\n",
       "      <td>246.000000</td>\n",
       "      <td>246.000000</td>\n",
       "      <td>246.000000</td>\n",
       "    </tr>\n",
       "    <tr>\n",
       "      <th>mean</th>\n",
       "      <td>86161.081301</td>\n",
       "      <td>2021-11-26 18:20:42.406292480</td>\n",
       "      <td>2021-11-28 06:49:06.931841280</td>\n",
       "      <td>18.744309</td>\n",
       "      <td>36.481707</td>\n",
       "      <td>36.473479</td>\n",
       "    </tr>\n",
       "    <tr>\n",
       "      <th>min</th>\n",
       "      <td>45557.000000</td>\n",
       "      <td>2016-03-04 09:08:15.223000</td>\n",
       "      <td>2016-03-04 10:20:40.607000</td>\n",
       "      <td>0.000000</td>\n",
       "      <td>0.100000</td>\n",
       "      <td>0.051919</td>\n",
       "    </tr>\n",
       "    <tr>\n",
       "      <th>25%</th>\n",
       "      <td>78531.750000</td>\n",
       "      <td>2020-08-11 22:23:43.130749952</td>\n",
       "      <td>2020-08-21 14:00:38.785250048</td>\n",
       "      <td>0.825000</td>\n",
       "      <td>1.600000</td>\n",
       "      <td>1.553028</td>\n",
       "    </tr>\n",
       "    <tr>\n",
       "      <th>50%</th>\n",
       "      <td>87809.000000</td>\n",
       "      <td>2022-04-05 21:38:34.580000</td>\n",
       "      <td>2022-04-06 02:59:05.034999808</td>\n",
       "      <td>2.800000</td>\n",
       "      <td>4.000000</td>\n",
       "      <td>3.995718</td>\n",
       "    </tr>\n",
       "    <tr>\n",
       "      <th>75%</th>\n",
       "      <td>98806.000000</td>\n",
       "      <td>2023-10-21 09:52:06.352000</td>\n",
       "      <td>2023-10-21 18:10:53.420250112</td>\n",
       "      <td>7.475000</td>\n",
       "      <td>9.900000</td>\n",
       "      <td>9.913193</td>\n",
       "    </tr>\n",
       "    <tr>\n",
       "      <th>max</th>\n",
       "      <td>109942.000000</td>\n",
       "      <td>2025-03-07 07:56:02.833000</td>\n",
       "      <td>2025-03-07 09:08:39.367000</td>\n",
       "      <td>1465.700000</td>\n",
       "      <td>2337.000000</td>\n",
       "      <td>2336.945237</td>\n",
       "    </tr>\n",
       "    <tr>\n",
       "      <th>std</th>\n",
       "      <td>15498.279248</td>\n",
       "      <td>NaN</td>\n",
       "      <td>NaN</td>\n",
       "      <td>100.403785</td>\n",
       "      <td>177.599793</td>\n",
       "      <td>177.596318</td>\n",
       "    </tr>\n",
       "  </tbody>\n",
       "</table>\n",
       "</div>"
      ],
      "text/plain": [
       "       Abnormality_ID                   Date_Created  \\\n",
       "count      246.000000                            246   \n",
       "mean     86161.081301  2021-11-26 18:20:42.406292480   \n",
       "min      45557.000000     2016-03-04 09:08:15.223000   \n",
       "25%      78531.750000  2020-08-11 22:23:43.130749952   \n",
       "50%      87809.000000     2022-04-05 21:38:34.580000   \n",
       "75%      98806.000000     2023-10-21 09:52:06.352000   \n",
       "max     109942.000000     2025-03-07 07:56:02.833000   \n",
       "std      15498.279248                            NaN   \n",
       "\n",
       "                          DateClosed  MachineHoursLost  TotalHoursToClose  \\\n",
       "count                            246        246.000000         246.000000   \n",
       "mean   2021-11-28 06:49:06.931841280         18.744309          36.481707   \n",
       "min       2016-03-04 10:20:40.607000          0.000000           0.100000   \n",
       "25%    2020-08-21 14:00:38.785250048          0.825000           1.600000   \n",
       "50%    2022-04-06 02:59:05.034999808          2.800000           4.000000   \n",
       "75%    2023-10-21 18:10:53.420250112          7.475000           9.900000   \n",
       "max       2025-03-07 09:08:39.367000       1465.700000        2337.000000   \n",
       "std                              NaN        100.403785         177.599793   \n",
       "\n",
       "       Resolution_Time  \n",
       "count       246.000000  \n",
       "mean         36.473479  \n",
       "min           0.051919  \n",
       "25%           1.553028  \n",
       "50%           3.995718  \n",
       "75%           9.913193  \n",
       "max        2336.945237  \n",
       "std         177.596318  "
      ]
     },
     "execution_count": 10,
     "metadata": {},
     "output_type": "execute_result"
    }
   ],
   "source": [
    "df.describe()"
   ]
  },
  {
   "cell_type": "code",
   "execution_count": 17,
   "metadata": {},
   "outputs": [
    {
     "name": "stdout",
     "output_type": "stream",
     "text": [
      "Value counts for each column:\n",
      "\n",
      "Abnormality_ID — Unique Values: 246\n",
      "Date_Created — Unique Values: 246\n",
      "DateClosed — Unique Values: 246\n",
      "MaintenanceProblemCode — Unique Values: 31\n",
      "Problem Description — Unique Values: 242\n",
      "Employee_Name — Unique Values: 44\n",
      "SafetyIssue — Unique Values: 2\n",
      "MachineDownNew — Unique Values: 2\n",
      "Action Owner — Unique Values: 16\n",
      "MachineHoursLost — Unique Values: 120\n",
      "TotalHoursToClose — Unique Values: 136\n",
      "Maint Tech Notes/Abnormality Action Item Notes — Unique Values: 243\n",
      "Resolution_Time — Unique Values: 246\n"
     ]
    }
   ],
   "source": [
    "print('Value counts for each column:\\n')\n",
    "for col in df.columns:\n",
    "    print(f\"{col} — Unique Values: {df[col].nunique()}\")"
   ]
  },
  {
   "cell_type": "markdown",
   "metadata": {},
   "source": [
    "There are 12 columns and 245 rows which corresponds to an abnormality. There is data on the problem, cause, maintenance actions, and resolution times. The data starts from abnormality reports that started on 3rd March 2016 to 7th March 2025."
   ]
  },
  {
   "cell_type": "markdown",
   "metadata": {},
   "source": [
    "Feature descriptions\n",
    "\n",
    "1. AbnormalityID : Unique identifier for each abnormality\n",
    "2. DateCreated & DateClosed : Timestamps for when the issue was created and resolved\n",
    "3. MaintenanceProblemCode : Category of the issue (e.g., Door Issue, Alarm Machine Down)\n",
    "4. ProblemDescription : Free-text description of the problem\n",
    "5. EmployeeName : ID of the employee who reported the issue\n",
    "6. SafetyIssue\n",
    "7. MachineDownNew : Yes/No \n",
    "8. ActionOwner: Responsible maintenance person/team \n",
    "9. MachineHoursLost : Time the machine was out of service\n",
    "10. TotalHoursToClose : Time it took to resolve the issue\n",
    "11. Maint Tech Notes/Abnormality Action Item Notes : Text notes about the fix or action taken"
   ]
  },
  {
   "cell_type": "code",
   "execution_count": 51,
   "metadata": {},
   "outputs": [
    {
     "data": {
      "text/plain": [
       "array(['64db4c8a67', 'f5eec0c0aa', '2f42bc8acf', '200c10adb1',\n",
       "       '3ece55ca19', '3e06d28e1c', '22d96724ac', '25be1ed09a',\n",
       "       '7a438f3595', '239582eeae', '73c3a12a64', 'e75a01c43e',\n",
       "       'a96fb8ce35', '6a5bc6f375', '2df58cecb3', '08a3a1cd96',\n",
       "       '32def503ac', 'e0847caded', 'e082b1900a', 'd3d67f71a3',\n",
       "       'dc5b4a6594', '4edf9b033e', '94ecc3a98e', '271856af31',\n",
       "       '973b9d73e9', '1a5da361c5', '14c656a423', 'bec4822ba4',\n",
       "       '409411a906', 'e6f3115736', 'ab80e4be2a', 'ca0afa3cc0',\n",
       "       '4b378e8355', '75866ab32c', '183ca2261a', 'f29445a033',\n",
       "       'fe8ef2e6b6', '5e04a7efb2', '605c75f5b6', '8bc911adfb',\n",
       "       'cca197e97a', '4b2fa0a0fd', 'b179b7c8b4', '2a6b55b2d9'],\n",
       "      dtype=object)"
      ]
     },
     "execution_count": 51,
     "metadata": {},
     "output_type": "execute_result"
    }
   ],
   "source": [
    "df['EmployeeName'].unique()"
   ]
  },
  {
   "cell_type": "code",
   "execution_count": 52,
   "metadata": {},
   "outputs": [
    {
     "data": {
      "text/plain": [
       "array(['cba0ba69c9', '49b43321e6', '3de2e22f41', '967727c350',\n",
       "       '3e7a0d0bbb', '8fbfb9c567', 'c2c16692c4', 'eb22595030',\n",
       "       'a0c4f3f697', '02c8833e6d', '8ba0076dee', '0e5b8fb3a2',\n",
       "       '90a39d38ed', 'a368db371f', '1c8e2c2ba9', 'fdfecab027'],\n",
       "      dtype=object)"
      ]
     },
     "execution_count": 52,
     "metadata": {},
     "output_type": "execute_result"
    }
   ],
   "source": [
    "df['ActionOwner'].unique()"
   ]
  },
  {
   "cell_type": "markdown",
   "metadata": {},
   "source": [
    "### Approach"
   ]
  },
  {
   "cell_type": "markdown",
   "metadata": {},
   "source": [
    "The approach taken is focusing on what will bring the biggest business impact and value.\n",
    "\n",
    "<b><i> Which Maintenance Problems Cause the Most Productivity Loss and How Can We Prevent Them? </i></b>"
   ]
  },
  {
   "cell_type": "markdown",
   "metadata": {},
   "source": [
    "Tasks:\n",
    "1. Pinpoint Root Causes of Productivity Loss\n",
    "2. Quantify Downtime and Delays\n",
    "3. Uncover Preventable Issues\n",
    "4. Visualize Actionable Insights\n",
    "5. Enable Early Risk Warnings\n",
    "   \n",
    "Insight\tand the Business Impact:\n",
    "1. Identify top delay-causing problems ➜ Focus resources and training where it counts \n",
    "2. Quantify cost of downtime ➜ Drive ROI for system/process improvements \n",
    "3. Detect repeatable issues ➜ Prevent future breakdowns\n",
    "4. Highlight unmonitored risks ➜ Improve alarm system and reduce surprises\n",
    "5. Visualize patterns ➜ Drive informed decision-making\n",
    "\n",
    "In terms of time, cost and manpower savings:\n",
    "1. Reduce Time\n",
    "- Faster Problem Resolution: By identifying the problems that take longest to resolve, teams can streamline workflows, standardize fixes, or improve triage.\n",
    "- ➜ Business Win: Reduced machine downtime = increased production hours.\n",
    "\n",
    "2. Lower Cost\n",
    "- Cost of Downtime: If you multiply lost hours × production value/hour, you can show direct financial loss from slow fixes.\n",
    "- Preventive Maintenance ROI: Early detection of frequent or high-impact issues supports justifying preventive upgrades or automation, which are often cheaper in the long\n",
    "- ➜ Lower operational and maintenance costs, better ROI on asset care.\n",
    "\n",
    "3. Optimize Manpower\n",
    "- Better Technician Allocation: By scoring problems by risk or complexity, the system can assign the right technician (e.g., senior for complex, junior for simple).\n",
    "- Train Smarter: Focus training efforts on the top 3–5 most disruptive problems, not everything.\n",
    "- ➜ Business Win: Improved productivity, less burnout, and fewer overtime hours."
   ]
  },
  {
   "cell_type": "markdown",
   "metadata": {},
   "source": [
    "By tackling the most disruptive maintenance problems, we’re helping the business reduce downtime ⏳, save costs 💸, and optimize workforce usage 👷 — all while improving operational resilience."
   ]
  },
  {
   "cell_type": "markdown",
   "metadata": {},
   "source": [
    "### Data Cleaning"
   ]
  },
  {
   "cell_type": "code",
   "execution_count": 33,
   "metadata": {},
   "outputs": [],
   "source": [
    "df.rename(columns={\n",
    "    'Date_Created': 'DateCreated',\n",
    "    'Resolution_Time': 'ResolutionTime',\n",
    "    'Employee_Name': 'EmployeeName'\n",
    "#     'Abnormality_ID': 'AbnormalityID',\n",
    "#     'Problem Description': 'ProblemDescription',\n",
    "#     'SafetyIssue': 'IsSafetyIssue',\n",
    "#     'MachineDownNew': 'IsMachineDownNew',  \n",
    "#     'Action Owner': 'ActionOwner',\n",
    "#     'Maint Tech Notes/Abnormality Action Item Notes': 'MaintenanceNotes'\n",
    "}, inplace=True)"
   ]
  },
  {
   "cell_type": "markdown",
   "metadata": {},
   "source": [
    "### Data Understanding"
   ]
  },
  {
   "cell_type": "markdown",
   "metadata": {},
   "source": [
    "Questions that arose from briefly looking at the dataset are:\n",
    "1. (Need to ask client) Are these abnormalities exhaustive? Is it just for one company? How can I know what are the financial consequences of the industrial machine failing? \n",
    "2. How many unique employees and maintenance problem code?\n",
    "3. Are the abnormalities spread out per month? -- Do a time series to see the abnormality per time\n",
    "4. What are the most costly issues? -- These are issues that are happening the most frequently\n",
    "5. What is the difference with the employee name and employee owner"
   ]
  },
  {
   "cell_type": "markdown",
   "metadata": {},
   "source": [
    "#### 1. Pinpoint Root Causes of Productivity Loss\n",
    "- MaintenanceProblemCode — Unique Values: 31\n",
    "- Problem Description — Unique Values: 242\n",
    "- Which problem codes are frequent\n",
    "- How much time (aka productivity loss) they cause\n",
    "- Which ones are slow to resolve → priority candidates for automation/prevention"
   ]
  },
  {
   "cell_type": "code",
   "execution_count": 47,
   "metadata": {},
   "outputs": [],
   "source": [
    "df['DateCreated'] = pd.to_datetime(df['DateCreated'])\n",
    "df['DateClosed'] = pd.to_datetime(df['DateClosed'])\n",
    "df['ResolutionTime'] = (df['DateClosed'] - df['DateCreated']).dt.total_seconds() / 3600  # in hours\n",
    "\n",
    "problem_stats = df.groupby('MaintenanceProblemCode').agg({\n",
    "    'ResolutionTime': ['count', 'mean', 'sum']\n",
    "}).reset_index()\n",
    "problem_stats.columns = ['ProblemCode', 'TicketCount', 'AvgHoursToFix', 'TotalHoursLost']"
   ]
  },
  {
   "cell_type": "code",
   "execution_count": 48,
   "metadata": {},
   "outputs": [
    {
     "data": {
      "application/vnd.microsoft.datawrangler.viewer.v0+json": {
       "columns": [
        {
         "name": "index",
         "rawType": "int64",
         "type": "integer"
        },
        {
         "name": "ProblemCode",
         "rawType": "object",
         "type": "string"
        },
        {
         "name": "TicketCount",
         "rawType": "int64",
         "type": "integer"
        },
        {
         "name": "AvgHoursToFix",
         "rawType": "float64",
         "type": "float"
        },
        {
         "name": "TotalHoursLost",
         "rawType": "float64",
         "type": "float"
        }
       ],
       "conversionMethod": "pd.DataFrame",
       "ref": "0fcbb68f-3698-44e1-8848-d77e81858210",
       "rows": [
        [
         "0",
         "Air Supply Issue",
         "1",
         "6.479616666666667",
         "6.479616666666667"
        ],
        [
         "1",
         "Alarm - Maintenance PM",
         "1",
         "0.40499722222222223",
         "0.40499722222222223"
        ],
        [
         "2",
         "Alarm Machine Down",
         "22",
         "22.398618080808077",
         "492.76959777777773"
        ],
        [
         "3",
         "Alarms Machine not Down",
         "9",
         "4.5462416358024695",
         "40.91617472222222"
        ],
        [
         "4",
         "Axis Is not align",
         "7",
         "26.4875426984127",
         "185.4127988888889"
        ],
        [
         "5",
         "Axis is Noisy",
         "6",
         "401.1463560648148",
         "2406.878136388889"
        ],
        [
         "6",
         "Chiller Unit Malfunction",
         "11",
         "14.86733053030303",
         "163.54063583333334"
        ],
        [
         "7",
         "Chuck Issue",
         "3",
         "4.695291018518518",
         "14.085873055555556"
        ],
        [
         "8",
         "Control Problem",
         "16",
         "7.987647413194445",
         "127.80235861111112"
        ],
        [
         "9",
         "Conveyor Problem",
         "4",
         "5.526674097222223",
         "22.106696388888892"
        ],
        [
         "10",
         "Coolant issues",
         "23",
         "43.719685241545896",
         "1005.5527605555556"
        ],
        [
         "11",
         "Cooljet Problem",
         "1",
         "2.9932797222222223",
         "2.9932797222222223"
        ],
        [
         "12",
         "DNC Problem",
         "4",
         "3.3306484027777774",
         "13.32259361111111"
        ],
        [
         "13",
         "Digital Readout Problem",
         "2",
         "178.7441523611111",
         "357.4883047222222"
        ],
        [
         "14",
         "Door Issue",
         "37",
         "52.1586015990991",
         "1929.8682591666666"
        ],
        [
         "15",
         "Emergency Stop Will Not Reset",
         "3",
         "2.1600850925925923",
         "6.480255277777777"
        ],
        [
         "16",
         "Hydraulic Pressure Issue",
         "3",
         "5.02570175925926",
         "15.077105277777779"
        ],
        [
         "17",
         "Lubrication System",
         "3",
         "28.62170351851852",
         "85.86511055555556"
        ],
        [
         "18",
         "Machine Crash",
         "1",
         "31.397803611111108",
         "31.397803611111108"
        ],
        [
         "19",
         "Machine Incident",
         "3",
         "39.884445",
         "119.653335"
        ],
        [
         "20",
         "Machine leaks",
         "3",
         "5.38360037037037",
         "16.15080111111111"
        ],
        [
         "21",
         "Mistcollector -Alarm",
         "3",
         "3.770923425925926",
         "11.312770277777778"
        ],
        [
         "22",
         "Move error",
         "3",
         "4.500146018518518",
         "13.500438055555556"
        ],
        [
         "23",
         "Power Failure",
         "1",
         "0.5792822222222223",
         "0.5792822222222223"
        ],
        [
         "24",
         "Problem Not Listed",
         "27",
         "46.03682998971194",
         "1242.9944097222224"
        ],
        [
         "25",
         "Skimmer Needed/Not Working",
         "4",
         "4.7421275",
         "18.96851"
        ],
        [
         "26",
         "Spindle issue",
         "5",
         "48.84032338888889",
         "244.20161694444445"
        ],
        [
         "27",
         "Steady rest issues",
         "21",
         "10.658392552910053",
         "223.82624361111112"
        ],
        [
         "28",
         "Switch Problem",
         "2",
         "1.3194759722222222",
         "2.6389519444444445"
        ],
        [
         "29",
         "Tailstock Issue",
         "5",
         "2.8647039999999997",
         "14.323519999999998"
        ],
        [
         "30",
         "Tool changer issues",
         "12",
         "12.990306296296296",
         "155.88367555555556"
        ]
       ],
       "shape": {
        "columns": 4,
        "rows": 31
       }
      },
      "text/html": [
       "<div>\n",
       "<style scoped>\n",
       "    .dataframe tbody tr th:only-of-type {\n",
       "        vertical-align: middle;\n",
       "    }\n",
       "\n",
       "    .dataframe tbody tr th {\n",
       "        vertical-align: top;\n",
       "    }\n",
       "\n",
       "    .dataframe thead th {\n",
       "        text-align: right;\n",
       "    }\n",
       "</style>\n",
       "<table border=\"1\" class=\"dataframe\">\n",
       "  <thead>\n",
       "    <tr style=\"text-align: right;\">\n",
       "      <th></th>\n",
       "      <th>ProblemCode</th>\n",
       "      <th>TicketCount</th>\n",
       "      <th>AvgHoursToFix</th>\n",
       "      <th>TotalHoursLost</th>\n",
       "    </tr>\n",
       "  </thead>\n",
       "  <tbody>\n",
       "    <tr>\n",
       "      <th>0</th>\n",
       "      <td>Air Supply Issue</td>\n",
       "      <td>1</td>\n",
       "      <td>6.479617</td>\n",
       "      <td>6.479617</td>\n",
       "    </tr>\n",
       "    <tr>\n",
       "      <th>1</th>\n",
       "      <td>Alarm - Maintenance PM</td>\n",
       "      <td>1</td>\n",
       "      <td>0.404997</td>\n",
       "      <td>0.404997</td>\n",
       "    </tr>\n",
       "    <tr>\n",
       "      <th>2</th>\n",
       "      <td>Alarm Machine Down</td>\n",
       "      <td>22</td>\n",
       "      <td>22.398618</td>\n",
       "      <td>492.769598</td>\n",
       "    </tr>\n",
       "    <tr>\n",
       "      <th>3</th>\n",
       "      <td>Alarms Machine not Down</td>\n",
       "      <td>9</td>\n",
       "      <td>4.546242</td>\n",
       "      <td>40.916175</td>\n",
       "    </tr>\n",
       "    <tr>\n",
       "      <th>4</th>\n",
       "      <td>Axis Is not align</td>\n",
       "      <td>7</td>\n",
       "      <td>26.487543</td>\n",
       "      <td>185.412799</td>\n",
       "    </tr>\n",
       "    <tr>\n",
       "      <th>5</th>\n",
       "      <td>Axis is Noisy</td>\n",
       "      <td>6</td>\n",
       "      <td>401.146356</td>\n",
       "      <td>2406.878136</td>\n",
       "    </tr>\n",
       "    <tr>\n",
       "      <th>6</th>\n",
       "      <td>Chiller Unit Malfunction</td>\n",
       "      <td>11</td>\n",
       "      <td>14.867331</td>\n",
       "      <td>163.540636</td>\n",
       "    </tr>\n",
       "    <tr>\n",
       "      <th>7</th>\n",
       "      <td>Chuck Issue</td>\n",
       "      <td>3</td>\n",
       "      <td>4.695291</td>\n",
       "      <td>14.085873</td>\n",
       "    </tr>\n",
       "    <tr>\n",
       "      <th>8</th>\n",
       "      <td>Control Problem</td>\n",
       "      <td>16</td>\n",
       "      <td>7.987647</td>\n",
       "      <td>127.802359</td>\n",
       "    </tr>\n",
       "    <tr>\n",
       "      <th>9</th>\n",
       "      <td>Conveyor Problem</td>\n",
       "      <td>4</td>\n",
       "      <td>5.526674</td>\n",
       "      <td>22.106696</td>\n",
       "    </tr>\n",
       "    <tr>\n",
       "      <th>10</th>\n",
       "      <td>Coolant issues</td>\n",
       "      <td>23</td>\n",
       "      <td>43.719685</td>\n",
       "      <td>1005.552761</td>\n",
       "    </tr>\n",
       "    <tr>\n",
       "      <th>11</th>\n",
       "      <td>Cooljet Problem</td>\n",
       "      <td>1</td>\n",
       "      <td>2.993280</td>\n",
       "      <td>2.993280</td>\n",
       "    </tr>\n",
       "    <tr>\n",
       "      <th>12</th>\n",
       "      <td>DNC Problem</td>\n",
       "      <td>4</td>\n",
       "      <td>3.330648</td>\n",
       "      <td>13.322594</td>\n",
       "    </tr>\n",
       "    <tr>\n",
       "      <th>13</th>\n",
       "      <td>Digital Readout Problem</td>\n",
       "      <td>2</td>\n",
       "      <td>178.744152</td>\n",
       "      <td>357.488305</td>\n",
       "    </tr>\n",
       "    <tr>\n",
       "      <th>14</th>\n",
       "      <td>Door Issue</td>\n",
       "      <td>37</td>\n",
       "      <td>52.158602</td>\n",
       "      <td>1929.868259</td>\n",
       "    </tr>\n",
       "    <tr>\n",
       "      <th>15</th>\n",
       "      <td>Emergency Stop Will Not Reset</td>\n",
       "      <td>3</td>\n",
       "      <td>2.160085</td>\n",
       "      <td>6.480255</td>\n",
       "    </tr>\n",
       "    <tr>\n",
       "      <th>16</th>\n",
       "      <td>Hydraulic Pressure Issue</td>\n",
       "      <td>3</td>\n",
       "      <td>5.025702</td>\n",
       "      <td>15.077105</td>\n",
       "    </tr>\n",
       "    <tr>\n",
       "      <th>17</th>\n",
       "      <td>Lubrication System</td>\n",
       "      <td>3</td>\n",
       "      <td>28.621704</td>\n",
       "      <td>85.865111</td>\n",
       "    </tr>\n",
       "    <tr>\n",
       "      <th>18</th>\n",
       "      <td>Machine Crash</td>\n",
       "      <td>1</td>\n",
       "      <td>31.397804</td>\n",
       "      <td>31.397804</td>\n",
       "    </tr>\n",
       "    <tr>\n",
       "      <th>19</th>\n",
       "      <td>Machine Incident</td>\n",
       "      <td>3</td>\n",
       "      <td>39.884445</td>\n",
       "      <td>119.653335</td>\n",
       "    </tr>\n",
       "    <tr>\n",
       "      <th>20</th>\n",
       "      <td>Machine leaks</td>\n",
       "      <td>3</td>\n",
       "      <td>5.383600</td>\n",
       "      <td>16.150801</td>\n",
       "    </tr>\n",
       "    <tr>\n",
       "      <th>21</th>\n",
       "      <td>Mistcollector -Alarm</td>\n",
       "      <td>3</td>\n",
       "      <td>3.770923</td>\n",
       "      <td>11.312770</td>\n",
       "    </tr>\n",
       "    <tr>\n",
       "      <th>22</th>\n",
       "      <td>Move error</td>\n",
       "      <td>3</td>\n",
       "      <td>4.500146</td>\n",
       "      <td>13.500438</td>\n",
       "    </tr>\n",
       "    <tr>\n",
       "      <th>23</th>\n",
       "      <td>Power Failure</td>\n",
       "      <td>1</td>\n",
       "      <td>0.579282</td>\n",
       "      <td>0.579282</td>\n",
       "    </tr>\n",
       "    <tr>\n",
       "      <th>24</th>\n",
       "      <td>Problem Not Listed</td>\n",
       "      <td>27</td>\n",
       "      <td>46.036830</td>\n",
       "      <td>1242.994410</td>\n",
       "    </tr>\n",
       "    <tr>\n",
       "      <th>25</th>\n",
       "      <td>Skimmer Needed/Not Working</td>\n",
       "      <td>4</td>\n",
       "      <td>4.742127</td>\n",
       "      <td>18.968510</td>\n",
       "    </tr>\n",
       "    <tr>\n",
       "      <th>26</th>\n",
       "      <td>Spindle issue</td>\n",
       "      <td>5</td>\n",
       "      <td>48.840323</td>\n",
       "      <td>244.201617</td>\n",
       "    </tr>\n",
       "    <tr>\n",
       "      <th>27</th>\n",
       "      <td>Steady rest issues</td>\n",
       "      <td>21</td>\n",
       "      <td>10.658393</td>\n",
       "      <td>223.826244</td>\n",
       "    </tr>\n",
       "    <tr>\n",
       "      <th>28</th>\n",
       "      <td>Switch Problem</td>\n",
       "      <td>2</td>\n",
       "      <td>1.319476</td>\n",
       "      <td>2.638952</td>\n",
       "    </tr>\n",
       "    <tr>\n",
       "      <th>29</th>\n",
       "      <td>Tailstock Issue</td>\n",
       "      <td>5</td>\n",
       "      <td>2.864704</td>\n",
       "      <td>14.323520</td>\n",
       "    </tr>\n",
       "    <tr>\n",
       "      <th>30</th>\n",
       "      <td>Tool changer issues</td>\n",
       "      <td>12</td>\n",
       "      <td>12.990306</td>\n",
       "      <td>155.883676</td>\n",
       "    </tr>\n",
       "  </tbody>\n",
       "</table>\n",
       "</div>"
      ],
      "text/plain": [
       "                      ProblemCode  TicketCount  AvgHoursToFix  TotalHoursLost\n",
       "0                Air Supply Issue            1       6.479617        6.479617\n",
       "1          Alarm - Maintenance PM            1       0.404997        0.404997\n",
       "2              Alarm Machine Down           22      22.398618      492.769598\n",
       "3         Alarms Machine not Down            9       4.546242       40.916175\n",
       "4               Axis Is not align            7      26.487543      185.412799\n",
       "5                   Axis is Noisy            6     401.146356     2406.878136\n",
       "6        Chiller Unit Malfunction           11      14.867331      163.540636\n",
       "7                     Chuck Issue            3       4.695291       14.085873\n",
       "8                 Control Problem           16       7.987647      127.802359\n",
       "9                Conveyor Problem            4       5.526674       22.106696\n",
       "10                 Coolant issues           23      43.719685     1005.552761\n",
       "11                Cooljet Problem            1       2.993280        2.993280\n",
       "12                    DNC Problem            4       3.330648       13.322594\n",
       "13        Digital Readout Problem            2     178.744152      357.488305\n",
       "14                     Door Issue           37      52.158602     1929.868259\n",
       "15  Emergency Stop Will Not Reset            3       2.160085        6.480255\n",
       "16       Hydraulic Pressure Issue            3       5.025702       15.077105\n",
       "17             Lubrication System            3      28.621704       85.865111\n",
       "18                  Machine Crash            1      31.397804       31.397804\n",
       "19               Machine Incident            3      39.884445      119.653335\n",
       "20                  Machine leaks            3       5.383600       16.150801\n",
       "21           Mistcollector -Alarm            3       3.770923       11.312770\n",
       "22                     Move error            3       4.500146       13.500438\n",
       "23                  Power Failure            1       0.579282        0.579282\n",
       "24             Problem Not Listed           27      46.036830     1242.994410\n",
       "25     Skimmer Needed/Not Working            4       4.742127       18.968510\n",
       "26                  Spindle issue            5      48.840323      244.201617\n",
       "27             Steady rest issues           21      10.658393      223.826244\n",
       "28                 Switch Problem            2       1.319476        2.638952\n",
       "29                Tailstock Issue            5       2.864704       14.323520\n",
       "30            Tool changer issues           12      12.990306      155.883676"
      ]
     },
     "execution_count": 48,
     "metadata": {},
     "output_type": "execute_result"
    }
   ],
   "source": [
    "problem_stats"
   ]
  },
  {
   "cell_type": "markdown",
   "metadata": {},
   "source": [
    "Insight 1: \n",
    "- Door Issue is the most ticketed problem. \n",
    "- Takes on average 52 hours. The third longest. Next to 401 hours and 178 hours.\n",
    "- 1929 hours lost. This is 2nd highest.\n",
    "\n",
    "Hypothesis 1: The Top 5 problems with the longest machine hours lost make up 80% of the productivity loss."
   ]
  },
  {
   "cell_type": "code",
   "execution_count": 49,
   "metadata": {},
   "outputs": [
    {
     "data": {
      "text/plain": [
       "('Axis is Noisy',\n",
       " 'Door Issue',\n",
       " 'Problem Not Listed',\n",
       " 'Coolant issues',\n",
       " 'Alarm Machine Down',\n",
       " 'Digital Readout Problem')"
      ]
     },
     "execution_count": 49,
     "metadata": {},
     "output_type": "execute_result"
    }
   ],
   "source": [
    "'Axis is Noisy', 'Door Issue', 'Problem Not Listed', 'Coolant issues', 'Alarm Machine Down', 'Digital Readout Problem'"
   ]
  },
  {
   "cell_type": "markdown",
   "metadata": {},
   "source": [
    "#### 2. Quantify Downtime and Delays\n",
    "- Calculate total downtime from all issues\n",
    "- Highlight issues where time-to-resolve > threshold (e.g., 24 hours)"
   ]
  },
  {
   "cell_type": "code",
   "execution_count": 35,
   "metadata": {},
   "outputs": [
    {
     "name": "stdout",
     "output_type": "stream",
     "text": [
      "Total downtime (hrs): 8972.4759125\n",
      "% of tickets with delays: 15.45%\n"
     ]
    }
   ],
   "source": [
    "# Total downtime\n",
    "total_downtime = df['ResolutionTime'].sum()\n",
    "\n",
    "# Delayed cases\n",
    "delays = df[df['ResolutionTime'] > 24]\n",
    "delay_rate = len(delays) / len(df)\n",
    "\n",
    "print(f\"Total downtime (hrs): {total_downtime}\")\n",
    "print(f\"% of tickets with delays: {round(delay_rate * 100, 2)}%\")"
   ]
  },
  {
   "cell_type": "markdown",
   "metadata": {},
   "source": [
    "#### 3. Visualize Actionable Insights"
   ]
  },
  {
   "cell_type": "code",
   "execution_count": 43,
   "metadata": {},
   "outputs": [
    {
     "data": {
      "image/png": "[encoded data removed]",
      "text/plain": [
       "<Figure size 640x480 with 1 Axes>"
      ]
     },
     "metadata": {},
     "output_type": "display_data"
    }
   ],
   "source": [
    "import seaborn as sns\n",
    "import matplotlib.pyplot as plt\n",
    "\n",
    "# Top 5 problems by time lost\n",
    "top5 = problem_stats.sort_values(by='TotalHoursLost', ascending=False).head(5)\n",
    "\n",
    "sns.barplot(x='ProblemCode', y='TotalHoursLost', data=top5)\n",
    "plt.title('Top 5 Maintenance Problems Causing Downtime')\n",
    "plt.ylabel('Total Hours Lost')\n",
    "plt.xlabel('Problem Code')\n",
    "plt.show()"
   ]
  },
  {
   "cell_type": "markdown",
   "metadata": {},
   "source": [
    "### Feature Engineering"
   ]
  },
  {
   "cell_type": "markdown",
   "metadata": {},
   "source": [
    "MaintenanceProblemCode\n",
    "Problem Description\n",
    "SafetyIssue\n",
    "MachineDownNew\n",
    "MaintenanceNotes: MaintenanceDate, MaintenanceProblem, \n",
    "\n",
    "\n",
    "Group by EmployeeName - Date\n",
    "Problem\n",
    "Cause\n",
    "Action Taken\n"
   ]
  },
  {
   "cell_type": "code",
   "execution_count": null,
   "metadata": {},
   "outputs": [],
   "source": []
  },
  {
   "cell_type": "markdown",
   "metadata": {},
   "source": [
    "### NLP"
   ]
  },
  {
   "cell_type": "code",
   "execution_count": null,
   "metadata": {},
   "outputs": [],
   "source": []
  },
  {
   "cell_type": "code",
   "execution_count": null,
   "metadata": {},
   "outputs": [],
   "source": []
  }
 ],
 "metadata": {
  "kernelspec": {
   "display_name": "Python 3",
   "language": "python",
   "name": "python3"
  },
  "language_info": {
   "codemirror_mode": {
    "name": "ipython",
    "version": 3
   },
   "file_extension": ".py",
   "mimetype": "text/x-python",
   "name": "python",
   "nbconvert_exporter": "python",
   "pygments_lexer": "ipython3",
   "version": "3.10.7"
  }
 },
 "nbformat": 4,
 "nbformat_minor": 2
}
